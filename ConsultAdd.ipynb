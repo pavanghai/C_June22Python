{
  "nbformat": 4,
  "nbformat_minor": 0,
  "metadata": {
    "colab": {
      "name": "ConsultAdd.ipynb",
      "provenance": [],
      "collapsed_sections": [
        "1KopV1RfMCAH",
        "AmJzQoCE8jx7",
        "2SBSpl___nnY",
        "TUHx1jhb_nSg",
        "HxljGOXEMmZy",
        "SsWH94lZMmIa"
      ],
      "authorship_tag": "ABX9TyOScCGEe6hgX8ri7zRs+NAq",
      "include_colab_link": true
    },
    "kernelspec": {
      "name": "python3",
      "display_name": "Python 3"
    }
  },
  "cells": [
    {
      "cell_type": "markdown",
      "metadata": {
        "id": "view-in-github",
        "colab_type": "text"
      },
      "source": [
        "<a href=\"https://colab.research.google.com/github/pavanghai/C_June22Python/blob/master/ConsultAdd.ipynb\" target=\"_parent\"><img src=\"https://colab.research.google.com/assets/colab-badge.svg\" alt=\"Open In Colab\"/></a>"
      ]
    },
    {
      "cell_type": "markdown",
      "metadata": {
        "id": "1KopV1RfMCAH",
        "colab_type": "text"
      },
      "source": [
        "### Old Work"
      ]
    },
    {
      "cell_type": "code",
      "metadata": {
        "id": "JBnRgx7ejD8_",
        "colab_type": "code",
        "colab": {
          "base_uri": "https://localhost:8080/",
          "height": 34
        },
        "outputId": "50e4f39f-b7a6-40b7-a595-074f638d4b99"
      },
      "source": [
        "print ('x' * 5)"
      ],
      "execution_count": null,
      "outputs": [
        {
          "output_type": "stream",
          "text": [
            "xxxxx\n"
          ],
          "name": "stdout"
        }
      ]
    },
    {
      "cell_type": "markdown",
      "metadata": {
        "id": "3Ku1BUdijM2k",
        "colab_type": "text"
      },
      "source": [
        "Looping : repeating a task "
      ]
    },
    {
      "cell_type": "markdown",
      "metadata": {
        "id": "AmJzQoCE8jx7",
        "colab_type": "text"
      },
      "source": [
        "#### Slicing"
      ]
    },
    {
      "cell_type": "markdown",
      "metadata": {
        "id": "wvgtDqnF8pyG",
        "colab_type": "text"
      },
      "source": [
        "----> [left index : right index]  \n",
        "----> [ : right index] # skiping left| this will start from 0 and  will go till index - 1\n",
        "----> [left index : ] # skiping RIGHT   \n",
        "----> [ : ] # skiping BOTH   \n",
        "----> [left index : Right index : step size]   "
      ]
    },
    {
      "cell_type": "code",
      "metadata": {
        "id": "MG7e42308nCV",
        "colab_type": "code",
        "colab": {}
      },
      "source": [
        "x = [10,20,30,40,50,60,70,80,90,100]"
      ],
      "execution_count": null,
      "outputs": []
    },
    {
      "cell_type": "code",
      "metadata": {
        "id": "G7x4_wgx9VTY",
        "colab_type": "code",
        "colab": {
          "base_uri": "https://localhost:8080/",
          "height": 34
        },
        "outputId": "7a8edfe3-87c2-4098-b688-a92ff4ef8e6d"
      },
      "source": [
        "x[:]"
      ],
      "execution_count": null,
      "outputs": [
        {
          "output_type": "execute_result",
          "data": {
            "text/plain": [
              "[10, 20, 30, 40, 50, 60, 70, 80, 90, 100]"
            ]
          },
          "metadata": {
            "tags": []
          },
          "execution_count": 4
        }
      ]
    },
    {
      "cell_type": "code",
      "metadata": {
        "id": "ab2eM6Eg9f-6",
        "colab_type": "code",
        "colab": {
          "base_uri": "https://localhost:8080/",
          "height": 34
        },
        "outputId": "b95517e7-3a63-42df-d6a5-45fcab7b91b1"
      },
      "source": [
        "x[3]"
      ],
      "execution_count": null,
      "outputs": [
        {
          "output_type": "execute_result",
          "data": {
            "text/plain": [
              "40"
            ]
          },
          "metadata": {
            "tags": []
          },
          "execution_count": 5
        }
      ]
    },
    {
      "cell_type": "code",
      "metadata": {
        "id": "pgpzVmAp9jJC",
        "colab_type": "code",
        "colab": {
          "base_uri": "https://localhost:8080/",
          "height": 34
        },
        "outputId": "329f5dc0-45ad-475d-9f3d-b8e23cbbd50c"
      },
      "source": [
        "x[2:7]"
      ],
      "execution_count": null,
      "outputs": [
        {
          "output_type": "execute_result",
          "data": {
            "text/plain": [
              "[30, 40, 50, 60, 70]"
            ]
          },
          "metadata": {
            "tags": []
          },
          "execution_count": 6
        }
      ]
    },
    {
      "cell_type": "code",
      "metadata": {
        "id": "x117lvY49luB",
        "colab_type": "code",
        "colab": {
          "base_uri": "https://localhost:8080/",
          "height": 153
        },
        "outputId": "3c69e442-2fd9-450a-c958-9f2cf0f0015c"
      },
      "source": [
        "print (x[::1])\n",
        "print (x[::2])\n",
        "print (x[::3])\n",
        "print (x[::4])\n",
        "print (x[::-1])\n",
        "print (x[::-2])\n",
        "print (x[::-3])\n",
        "print (x[::-4])"
      ],
      "execution_count": null,
      "outputs": [
        {
          "output_type": "stream",
          "text": [
            "[10, 20, 30, 40, 50, 60, 70, 80, 90, 100]\n",
            "[10, 30, 50, 70, 90]\n",
            "[10, 40, 70, 100]\n",
            "[10, 50, 90]\n",
            "[100, 90, 80, 70, 60, 50, 40, 30, 20, 10]\n",
            "[100, 80, 60, 40, 20]\n",
            "[100, 70, 40, 10]\n",
            "[100, 60, 20]\n"
          ],
          "name": "stdout"
        }
      ]
    },
    {
      "cell_type": "markdown",
      "metadata": {
        "id": "qX9mWuR6-0A1",
        "colab_type": "text"
      },
      "source": [
        "#### nested list [ [] ]"
      ]
    },
    {
      "cell_type": "code",
      "metadata": {
        "id": "xCvx_u7t-URO",
        "colab_type": "code",
        "colab": {
          "base_uri": "https://localhost:8080/",
          "height": 34
        },
        "outputId": "91945cc9-63bb-4ebb-9926-20186f4772aa"
      },
      "source": [
        "x=[10,20,30,['Riyaz','ul','Haque'],40,50,60]\n",
        "y=[10,20,30,[2,3,4],40,50,60]\n",
        "x"
      ],
      "execution_count": null,
      "outputs": [
        {
          "output_type": "execute_result",
          "data": {
            "text/plain": [
              "[10, 20, 30, ['Riyaz', 'ul', 'Haque'], 40, 50, 60]"
            ]
          },
          "metadata": {
            "tags": []
          },
          "execution_count": 17
        }
      ]
    },
    {
      "cell_type": "code",
      "metadata": {
        "id": "9GRq-o-O_QRU",
        "colab_type": "code",
        "colab": {
          "base_uri": "https://localhost:8080/",
          "height": 265
        },
        "outputId": "b889cb35-e303-4e95-f61b-f219c354f78f"
      },
      "source": [
        "print (x[3])\n",
        "print (x[3][-1])\n",
        "print (y[3])\n",
        "print (y[3][-1])\n",
        "print (y[3[-1]])"
      ],
      "execution_count": null,
      "outputs": [
        {
          "output_type": "stream",
          "text": [
            "['Riyaz', 'ul', 'Haque']\n",
            "Haque\n",
            "[2, 3, 4]\n",
            "4\n"
          ],
          "name": "stdout"
        },
        {
          "output_type": "error",
          "ename": "TypeError",
          "evalue": "ignored",
          "traceback": [
            "\u001b[0;31m---------------------------------------------------------------------------\u001b[0m",
            "\u001b[0;31mTypeError\u001b[0m                                 Traceback (most recent call last)",
            "\u001b[0;32m<ipython-input-18-555ef1758125>\u001b[0m in \u001b[0;36m<module>\u001b[0;34m()\u001b[0m\n\u001b[1;32m      3\u001b[0m \u001b[0mprint\u001b[0m \u001b[0;34m(\u001b[0m\u001b[0my\u001b[0m\u001b[0;34m[\u001b[0m\u001b[0;36m3\u001b[0m\u001b[0;34m]\u001b[0m\u001b[0;34m)\u001b[0m\u001b[0;34m\u001b[0m\u001b[0;34m\u001b[0m\u001b[0m\n\u001b[1;32m      4\u001b[0m \u001b[0mprint\u001b[0m \u001b[0;34m(\u001b[0m\u001b[0my\u001b[0m\u001b[0;34m[\u001b[0m\u001b[0;36m3\u001b[0m\u001b[0;34m]\u001b[0m\u001b[0;34m[\u001b[0m\u001b[0;34m-\u001b[0m\u001b[0;36m1\u001b[0m\u001b[0;34m]\u001b[0m\u001b[0;34m)\u001b[0m\u001b[0;34m\u001b[0m\u001b[0;34m\u001b[0m\u001b[0m\n\u001b[0;32m----> 5\u001b[0;31m \u001b[0mprint\u001b[0m \u001b[0;34m(\u001b[0m\u001b[0my\u001b[0m\u001b[0;34m[\u001b[0m\u001b[0;36m3\u001b[0m\u001b[0;34m[\u001b[0m\u001b[0;34m-\u001b[0m\u001b[0;36m1\u001b[0m\u001b[0;34m]\u001b[0m\u001b[0;34m]\u001b[0m\u001b[0;34m)\u001b[0m\u001b[0;34m\u001b[0m\u001b[0;34m\u001b[0m\u001b[0m\n\u001b[0m",
            "\u001b[0;31mTypeError\u001b[0m: 'int' object is not subscriptable"
          ]
        }
      ]
    },
    {
      "cell_type": "code",
      "metadata": {
        "id": "QYKZxzhi_W1M",
        "colab_type": "code",
        "colab": {
          "base_uri": "https://localhost:8080/",
          "height": 34
        },
        "outputId": "253f6045-5569-4428-ef0d-3cdf87b275e8"
      },
      "source": [
        "z = [1,2,3,[10,20,[100,200,300],40,50,60],4,5,6]\n",
        "print (z[3][2][1])"
      ],
      "execution_count": null,
      "outputs": [
        {
          "output_type": "stream",
          "text": [
            "200\n"
          ],
          "name": "stdout"
        }
      ]
    },
    {
      "cell_type": "code",
      "metadata": {
        "id": "ZzZOf6XSBHUJ",
        "colab_type": "code",
        "colab": {
          "base_uri": "https://localhost:8080/",
          "height": 34
        },
        "outputId": "ea9a73d6-01d3-48b3-8953-b83939cdff45"
      },
      "source": [
        "len(z)"
      ],
      "execution_count": null,
      "outputs": [
        {
          "output_type": "execute_result",
          "data": {
            "text/plain": [
              "7"
            ]
          },
          "metadata": {
            "tags": []
          },
          "execution_count": 23
        }
      ]
    },
    {
      "cell_type": "code",
      "metadata": {
        "id": "S-koU11LBkZE",
        "colab_type": "code",
        "colab": {
          "base_uri": "https://localhost:8080/",
          "height": 163
        },
        "outputId": "f35b3773-84ed-47a9-c604-48eb419ac6e7"
      },
      "source": [
        "sum(z)"
      ],
      "execution_count": null,
      "outputs": [
        {
          "output_type": "error",
          "ename": "TypeError",
          "evalue": "ignored",
          "traceback": [
            "\u001b[0;31m---------------------------------------------------------------------------\u001b[0m",
            "\u001b[0;31mTypeError\u001b[0m                                 Traceback (most recent call last)",
            "\u001b[0;32m<ipython-input-24-3cc5ad747c11>\u001b[0m in \u001b[0;36m<module>\u001b[0;34m()\u001b[0m\n\u001b[0;32m----> 1\u001b[0;31m \u001b[0msum\u001b[0m\u001b[0;34m(\u001b[0m\u001b[0mz\u001b[0m\u001b[0;34m)\u001b[0m\u001b[0;34m\u001b[0m\u001b[0;34m\u001b[0m\u001b[0m\n\u001b[0m",
            "\u001b[0;31mTypeError\u001b[0m: unsupported operand type(s) for +: 'int' and 'list'"
          ]
        }
      ]
    },
    {
      "cell_type": "code",
      "metadata": {
        "id": "yZStV0L4ByME",
        "colab_type": "code",
        "colab": {
          "base_uri": "https://localhost:8080/",
          "height": 51
        },
        "outputId": "5ddb0adc-c11b-4c56-b1f2-97f6786c28b5"
      },
      "source": [
        "# proper way to create a list using range function\n",
        "# output of range is always as list\n",
        "x=range(10,100,10)\n",
        "print(type(x))\n",
        "list(x)"
      ],
      "execution_count": null,
      "outputs": [
        {
          "output_type": "stream",
          "text": [
            "<class 'range'>\n"
          ],
          "name": "stdout"
        },
        {
          "output_type": "execute_result",
          "data": {
            "text/plain": [
              "[10, 20, 30, 40, 50, 60, 70, 80, 90]"
            ]
          },
          "metadata": {
            "tags": []
          },
          "execution_count": 30
        }
      ]
    },
    {
      "cell_type": "markdown",
      "metadata": {
        "id": "-Uuq0Ba4u7Vb",
        "colab_type": "text"
      },
      "source": [
        "## InClass"
      ]
    },
    {
      "cell_type": "markdown",
      "metadata": {
        "id": "pXujPp2Pu_Fb",
        "colab_type": "text"
      },
      "source": [
        "This section is for all the work that we do in class"
      ]
    },
    {
      "cell_type": "markdown",
      "metadata": {
        "id": "KeEWe76tiy8F",
        "colab_type": "text"
      },
      "source": [
        "##Assignments"
      ]
    },
    {
      "cell_type": "markdown",
      "metadata": {
        "id": "2SBSpl___nnY",
        "colab_type": "text"
      },
      "source": [
        "### TASK TWO: OPERATORS AND DECISION-MAKING STATEMENT"
      ]
    },
    {
      "cell_type": "markdown",
      "metadata": {
        "id": "TUHx1jhb_nSg",
        "colab_type": "text"
      },
      "source": [
        "#### **1 to 8 already done **\n",
        "9. Read the two parts of the question below: \n",
        " Write a program such that it asks users to “guess the lucky number”. If the correct number is guessed the program stops, otherwise it continues forever. \n",
        "Modify the program so that it asks users whether they want to guess again each time. Use two variables, ‘number’ for the number and ‘answer’ for the answer to the question of whether they want to continue guessing. The program stops if the user guesses the correct number or answers “no”. ( The program continues as long as a user has not answered “no” and has not guessed the correct number)\n"
      ]
    },
    {
      "cell_type": "code",
      "metadata": {
        "id": "Z_XYDQNRGuMF",
        "colab_type": "code",
        "colab": {
          "base_uri": "https://localhost:8080/",
          "height": 173
        },
        "outputId": "b0e12c8d-56c4-444c-a9a6-42781628aa58"
      },
      "source": [
        "t0209_luckyNum = 3\n",
        "t0209_guessNum = input (\"Guess the lucky number :\")\n",
        "i=1\n",
        "while True:\n",
        "  if t0209_guessNum == str(t0209_luckyNum):\n",
        "    print (\"Good guess\")\n",
        "    break\n",
        "  elif t0209_guessNum !=str(t0209_luckyNum):\n",
        "    t0209_tryAgain = input(\"wrong guess, try again \")\n",
        "    if t0209_tryAgain == str(t0209_luckyNum):\n",
        "      print (\"Good guess\")\n",
        "      break\n",
        "    elif t0209_tryAgain in ['no', 'No', 'Nope', 'nope']:\n",
        "      print (\"Thanks for playing...\")\n",
        "      break\n",
        "  # i+=1\n",
        "  # if i>=5:\n",
        "  #   print (\"You already tried for\", i, \"times, Game over\")\n",
        "  #   break"
      ],
      "execution_count": null,
      "outputs": [
        {
          "output_type": "stream",
          "text": [
            "Guess the lucky number :1\n",
            "wrong guess, try again 2\n",
            "wrong guess, try again 4\n",
            "wrong guess, try again 5\n",
            "wrong guess, try again 6\n",
            "wrong guess, try again 7\n",
            "wrong guess, try again 8\n",
            "wrong guess, try again no\n",
            "Thanks for playing...\n"
          ],
          "name": "stdout"
        }
      ]
    },
    {
      "cell_type": "markdown",
      "metadata": {
        "id": "HxljGOXEMmZy",
        "colab_type": "text"
      },
      "source": [
        "####10.  Write a program that asks five times to guess the lucky number. Use a while loop and a counter, such as  \n",
        "```\n",
        "counter=1\n",
        "While counter <= 5:\n",
        "  print(“Type in the”, counter, “number”\n",
        "  counter=counter+1\n",
        "```\n",
        "The program asks for five guesses (no matter whether the correct number was guessed or not). If the correct number is guessed, the program outputs “Good guess!”, otherwise it outputs “Try again!”. After the fifth guess, it stops and prints “Game over!”.\n"
      ]
    },
    {
      "cell_type": "code",
      "metadata": {
        "id": "XanSHz70NWP2",
        "colab_type": "code",
        "colab": {
          "base_uri": "https://localhost:8080/",
          "height": 225
        },
        "outputId": "f3402aff-f9dc-4a44-d4fd-c2c854eccbc1"
      },
      "source": [
        "t0210_luckyNum = 4\n",
        "t0210_counter = 1\n",
        "while t0210_counter <= 5:\n",
        "  \n",
        "  t0210_guessNum = input (\"Guess the lucky number :\")\n",
        "\n",
        "  if t0210_guessNum == str(t0210_luckyNum):\n",
        "    print (\"Good guess!\")\n",
        "  elif t0210_guessNum !=str(t0210_luckyNum):\n",
        "    print (\"Try again!\")\n",
        " \n",
        "  if t0210_counter >= 5:\n",
        "    print (\"Game over\")\n",
        "  \n",
        "  t0210_counter += 1"
      ],
      "execution_count": null,
      "outputs": [
        {
          "output_type": "stream",
          "text": [
            "Guess the lucky number :1\n",
            "Try again!\n",
            "Guess the lucky number :4\n",
            "Good guess!\n",
            "Guess the lucky number :4\n",
            "Good guess!\n",
            "Guess the lucky number :1\n",
            "Try again!\n",
            "Game over\n",
            "Guess the lucky number :1\n",
            "Try again!\n",
            "Game over\n"
          ],
          "name": "stdout"
        }
      ]
    },
    {
      "cell_type": "markdown",
      "metadata": {
        "id": "SsWH94lZMmIa",
        "colab_type": "text"
      },
      "source": [
        "#### 11.  In the previous question, insert “break” after the “Good guess!” print statement. “break” will terminate the while loop so that users do not have to continue guessing after they found the number. If the user does not guess the number at all, print “Sorry but that was not very successful”.\n"
      ]
    },
    {
      "cell_type": "code",
      "metadata": {
        "id": "JfD_WIpIeVQI",
        "colab_type": "code",
        "colab": {
          "base_uri": "https://localhost:8080/",
          "height": 208
        },
        "outputId": "ddd933cc-cbe5-492d-ce12-22c3e9a80bae"
      },
      "source": [
        "t0211_luckyNum = 4\n",
        "t0211_counter = 1\n",
        "while t0211_counter <= 5:\n",
        "\n",
        "  t0211_guessNum = input (\"Guess the lucky number :\")\n",
        "  if t0211_guessNum == str(t0211_luckyNum):\n",
        "    print (\"Good guess! \\nbreak\")\n",
        "    break\n",
        "  elif t0211_guessNum !=str(t0211_luckyNum):\n",
        "    print (\"Try again!\")\n",
        " \n",
        "  if t0211_counter >= 5:\n",
        "    print (\"“Sorry but that was not very successful\")\n",
        "  t0211_counter += 1  "
      ],
      "execution_count": null,
      "outputs": [
        {
          "output_type": "stream",
          "text": [
            "Guess the lucky number :1\n",
            "Try again!\n",
            "Guess the lucky number :1\n",
            "Try again!\n",
            "Guess the lucky number :1\n",
            "Try again!\n",
            "Guess the lucky number :1\n",
            "Try again!\n",
            "Guess the lucky number :1\n",
            "Try again!\n",
            "“Sorry but that was not very successful\n"
          ],
          "name": "stdout"
        }
      ]
    },
    {
      "cell_type": "markdown",
      "metadata": {
        "id": "VchUx2EbMl4M",
        "colab_type": "text"
      },
      "source": [
        ""
      ]
    },
    {
      "cell_type": "markdown",
      "metadata": {
        "id": "YPDjdBh1_fZf",
        "colab_type": "text"
      },
      "source": [
        "###TASK THREE: DATA STRUCTURES"
      ]
    },
    {
      "cell_type": "code",
      "metadata": {
        "id": "zUJ1MzNogNGm",
        "colab_type": "code",
        "colab": {
          "base_uri": "https://localhost:8080/",
          "height": 34
        },
        "outputId": "a3c58650-0d1f-459d-e4a0-76d73c12e762"
      },
      "source": [
        "# 1. Create a list of the 10 elements of four different types of Data Types like int, string, complex, and float.\n",
        "t0301_list = [2, 'numbers',10j, 5.5, 'from', 10 , 20, 30.5, 20.5, 50j]\n",
        "# type(t0301_list[-1])\n",
        "# len(t0301_list)"
      ],
      "execution_count": null,
      "outputs": [
        {
          "output_type": "execute_result",
          "data": {
            "text/plain": [
              "10"
            ]
          },
          "metadata": {
            "tags": []
          },
          "execution_count": 63
        }
      ]
    },
    {
      "cell_type": "code",
      "metadata": {
        "id": "TXYlxpE3gM6O",
        "colab_type": "code",
        "colab": {
          "base_uri": "https://localhost:8080/",
          "height": 86
        },
        "outputId": "4e11760f-f25c-416f-a226-af76d30de8d5"
      },
      "source": [
        "# 2. Create a list of size 5 and execute the slicing structure\n",
        "t0302_list = range(10,51,10)\n",
        "t0302_list = list(t0302_list)\n",
        "print (t0302_list, \": full list without indexing\")\n",
        "print (t0302_list[:], \": full list using blank index\")\n",
        "print (t0302_list[1:3], \": list using start and end index\")\n",
        "print (t0302_list[::2], \": full list using blank index, skiping 1 value\")"
      ],
      "execution_count": null,
      "outputs": [
        {
          "output_type": "stream",
          "text": [
            "[10, 20, 30, 40, 50] : full list without indexing\n",
            "[10, 20, 30, 40, 50] : full list using blank index\n",
            "[20, 30] : list using start and end index\n",
            "[10, 30, 50] : full list using blank index, skiping 1 value\n"
          ],
          "name": "stdout"
        }
      ]
    },
    {
      "cell_type": "code",
      "metadata": {
        "id": "Vg1uvsTSgMtg",
        "colab_type": "code",
        "colab": {
          "base_uri": "https://localhost:8080/",
          "height": 52
        },
        "outputId": "b045d7ca-a289-4959-ab4e-dc1246635404"
      },
      "source": [
        "# 3. Write a program to get the sum and multiply of all the items in a given list.\n",
        "t0303_list = [*range(1,11,1)] # use argument-unpacking operator i.e. *\n",
        "t0303_add = 0 ; t0303_multiply = 1\n",
        "\n",
        "for i in t0303_list:\n",
        "  t0303_add +=i \n",
        "  t0303_multiply *=i\n",
        "\n",
        "print (\"Sum of all numbers in the list is \",t0303_add)\n",
        "print (\"Multiple of all numbers in the list is \",t0303_multiply)"
      ],
      "execution_count": null,
      "outputs": [
        {
          "output_type": "stream",
          "text": [
            "Sum of all numbers in the list is  55\n",
            "Multiple of all numbers in the list is  3628800\n"
          ],
          "name": "stdout"
        }
      ]
    },
    {
      "cell_type": "code",
      "metadata": {
        "id": "3u0MzGThgaIW",
        "colab_type": "code",
        "colab": {
          "base_uri": "https://localhost:8080/",
          "height": 34
        },
        "outputId": "d62d2f76-9854-4cdb-aa06-2a4e74a6163d"
      },
      "source": [
        "# 4. Find the largest and smallest number from a given list.\n",
        "t0304_minMax = [*range(3,27,3)]\n",
        "t0304_min = min(t0304_minMax) ; t0304_max = max(t0304_minMax)\n",
        "print (\"Largest # is\",t0304_max,\"and Smallest # is\",t0304_min ,\"from the list\")"
      ],
      "execution_count": null,
      "outputs": [
        {
          "output_type": "stream",
          "text": [
            "Largest # is 24 and Smallest # is 3 from the list\n"
          ],
          "name": "stdout"
        }
      ]
    },
    {
      "cell_type": "code",
      "metadata": {
        "id": "O20ta3npgZ-H",
        "colab_type": "code",
        "colab": {
          "base_uri": "https://localhost:8080/",
          "height": 52
        },
        "outputId": "9c048087-0033-45f3-9598-86b98fb90b96"
      },
      "source": [
        "# 5. Create a new list that contains the specified numbers after removing the even numbers from a predefined list.\n",
        "t0305_list = [*range(1,21,1)]\n",
        "t0305_nonEven = []\n",
        "for i in t0305_list:\n",
        "  if i%2 != 0:\n",
        "    t0305_nonEven.append(i)\n",
        "    # print (i,'is an odd number')\n",
        "print (\"Original list: \",t0305_list)\n",
        "print (\"After removing even numbers :\",t0305_nonEven)"
      ],
      "execution_count": null,
      "outputs": [
        {
          "output_type": "stream",
          "text": [
            "Original list:  [1, 2, 3, 4, 5, 6, 7, 8, 9, 10, 11, 12, 13, 14, 15, 16, 17, 18, 19, 20]\n",
            "After removing even numbers : [1, 3, 5, 7, 9, 11, 13, 15, 17, 19]\n"
          ],
          "name": "stdout"
        }
      ]
    },
    {
      "cell_type": "code",
      "metadata": {
        "id": "cVCh_dyvgZ11",
        "colab_type": "code",
        "colab": {
          "base_uri": "https://localhost:8080/",
          "height": 69
        },
        "outputId": "db256b32-7f08-4f1a-b655-950e27f4e755"
      },
      "source": [
        "# 6. Create a list of first and last 5 elements where the values are square of numbers between 1 and 30 (both included).\n",
        "t0306_list = [*range(1,31,1)] ; t0306_sqrVal = []\n",
        "# by Cheating  NEED Better WAY\n",
        "for i in range(1,8):\n",
        "  t0306_sqrVal.append(i**2)\n",
        "t0306_diff = list (set (t0306_list) & set(t0306_sqrVal))\n",
        "\n",
        "print (t0306_list)\n",
        "print (t0306_sqrVal)\n",
        "print (t0306_diff)\n",
        " "
      ],
      "execution_count": null,
      "outputs": [
        {
          "output_type": "stream",
          "text": [
            "[1, 2, 3, 4, 5, 6, 7, 8, 9, 10, 11, 12, 13, 14, 15, 16, 17, 18, 19, 20, 21, 22, 23, 24, 25, 26, 27, 28, 29, 30]\n",
            "[1, 4, 9, 16, 25, 36, 49]\n",
            "[1, 4, 9, 16, 25]\n"
          ],
          "name": "stdout"
        }
      ]
    },
    {
      "cell_type": "code",
      "metadata": {
        "id": "o3A5oFFwgZmm",
        "colab_type": "code",
        "colab": {
          "base_uri": "https://localhost:8080/",
          "height": 33
        },
        "outputId": "6fc0415e-b3de-4450-87e9-c562d2241606"
      },
      "source": [
        "# 7. Write a program to replace the last element in a list with another list. \n",
        "# Sample data: [[1,3,5,7,9,10],[2,4,6,8]] Expected output: [1,3,5,7,9,2,4,6,8]\n",
        "t0307_list = [*range(1,15,2)] ; t0307_listNew = [*range(21,26)]\n",
        "t0307_listOut =  t0307_list[:-1] + t0307_listNew\n",
        "t0307_listOut"
      ],
      "execution_count": null,
      "outputs": [
        {
          "output_type": "execute_result",
          "data": {
            "text/plain": [
              "[1, 3, 5, 7, 9, 11, 21, 22, 23, 24, 25]"
            ]
          },
          "metadata": {
            "tags": []
          },
          "execution_count": 77
        }
      ]
    },
    {
      "cell_type": "code",
      "metadata": {
        "id": "FfeRkuergqMv",
        "colab_type": "code",
        "colab": {
          "base_uri": "https://localhost:8080/",
          "height": 33
        },
        "outputId": "9ecd077d-fa94-4b7a-f3bc-f47db9b39e46"
      },
      "source": [
        "# 8. Create a new dictionary by concatenating the following two \n",
        "# dictionaries: a={1:10,2:20} b={3:30,4:40} Expected Result: {1:10,2:20,3:30,4:40}\n",
        "t0308_dict_a = {1:10,2:20} ; t0308_dict_b={3:30,4:40}\n",
        "t0308_dict_a.update(t0308_dict_b)\n",
        "# print (t0308_dict_a, t0308_dict_b, t0308_dict_new)\n",
        "t0308_dict_a\n"
      ],
      "execution_count": null,
      "outputs": [
        {
          "output_type": "execute_result",
          "data": {
            "text/plain": [
              "{1: 10, 2: 20, 3: 30, 4: 40}"
            ]
          },
          "metadata": {
            "tags": []
          },
          "execution_count": 85
        }
      ]
    },
    {
      "cell_type": "code",
      "metadata": {
        "id": "MO2oQao5gqFB",
        "colab_type": "code",
        "colab": {
          "base_uri": "https://localhost:8080/",
          "height": 50
        },
        "outputId": "0723fb34-0e06-4cb1-b579-bac4c4052384"
      },
      "source": [
        "# 9. Create a dictionary that contains a number (between 1 and n) in the form(x,x*x). \n",
        "# Sample data (n=5) Expected Output: {1:1,2:4,3:9,4:16,5:25}\n",
        "t0309_num = int(input(\"Enter a Number less then 10 :\"))\n",
        "# t0309_dict = {1:1}\n",
        "for i in range (t0309_num):\n",
        "  # if i == t0309_num-1:\n",
        "  #   print (\"Break\", i)\n",
        "  #   break\n",
        "  # print (i+2)\n",
        "  t0309_dict.update({i+1:(i+1)**2})\n",
        "t0309_dict"
      ],
      "execution_count": null,
      "outputs": [
        {
          "output_type": "stream",
          "text": [
            "Enter a Number less then 10 :10\n"
          ],
          "name": "stdout"
        },
        {
          "output_type": "execute_result",
          "data": {
            "text/plain": [
              "{1: 1, 2: 4, 3: 9, 4: 16, 5: 25, 6: 36, 7: 49, 8: 64, 9: 81, 10: 100}"
            ]
          },
          "metadata": {
            "tags": []
          },
          "execution_count": 94
        }
      ]
    },
    {
      "cell_type": "code",
      "metadata": {
        "id": "fCW3Pvohgp8P",
        "colab_type": "code",
        "colab": {
          "base_uri": "https://localhost:8080/",
          "height": 67
        },
        "outputId": "3862477b-b060-457a-8b68-ef224a6bafd5"
      },
      "source": [
        "# 10. Write a program which accepts a sequence of comma-separated numbers from the \n",
        "# console and generate a list and a tuple which contains every number. \n",
        "# Suppose the following input is supplied to the program: 34,67,55,33,12,98 \n",
        "# The output should be: [‘34’,’67’,’55’,’33’,’12’,’98’] (‘34’,’67’,’55’,’33’,’12’,’98’)\n",
        "t0310_inputNum = eval(input(\"Enter sequence of comma-separated numbers :\"))\n",
        "# print (type(t0310_inputNum),t0310_inputNum )\n",
        "# print (len(t0310_inputNum))\n",
        "t0310_tup = () ; t0310_list=[]\n",
        "for i in range (len(t0310_inputNum)):\n",
        "  # print (f\"'{i}'\")\n",
        "  t0310_list.append(str(t0310_inputNum[i]))\n",
        "  # t0310_tup.insert(str(t0310_inputNum[i]))\n",
        "\n",
        "t0310_tup = tuple(t0310_list)\n",
        "print (t0310_list)\n",
        "print (t0310_tup)"
      ],
      "execution_count": null,
      "outputs": [
        {
          "output_type": "stream",
          "text": [
            "Enter sequence of comma-separated numbers :45,32,12,33,56\n",
            "['45', '32', '12', '33', '56']\n",
            "('45', '32', '12', '33', '56')\n"
          ],
          "name": "stdout"
        }
      ]
    },
    {
      "cell_type": "markdown",
      "metadata": {
        "id": "1pwcggx8_UuT",
        "colab_type": "text"
      },
      "source": [
        "###WEEKEND ACTIVITY ON DATA STRUCTURES"
      ]
    },
    {
      "cell_type": "code",
      "metadata": {
        "id": "AS0Wrl4iHKdd",
        "colab_type": "code",
        "colab": {}
      },
      "source": [
        "# 1.Create a list of the 10 elements of four different types of Data Types like int, string, complex, and float.\n",
        "t_wa01_list = [2, 'numbers',10j, 5.5, 'from', 10 , 20, 30.5, 20.5, 50j]"
      ],
      "execution_count": null,
      "outputs": []
    },
    {
      "cell_type": "code",
      "metadata": {
        "id": "dRjpAcjwHKZm",
        "colab_type": "code",
        "colab": {}
      },
      "source": [
        "# 2. Create a list of size 5 and execute the slicing structure\n",
        "t_wa02_list = range(10,51,10)\n",
        "t_wa02_list = list(t_wa02_list)\n",
        "print (t_wa02_list, \": full list without indexing\")\n",
        "print (t_wa02_list[:], \": full list using blank index\")\n",
        "print (t_wa02_list[1:3], \": list using start and end index\")\n",
        "print (t_wa02_list[::2], \": full list using blank index, skiping 1 value\")"
      ],
      "execution_count": null,
      "outputs": []
    },
    {
      "cell_type": "code",
      "metadata": {
        "id": "3uTgHnnRHKWQ",
        "colab_type": "code",
        "colab": {
          "base_uri": "https://localhost:8080/",
          "height": 117
        },
        "outputId": "28665dfc-3f80-4631-d871-d73e5b0bad14"
      },
      "source": [
        "# 3. Create a list of given structure and \n",
        "# run x=[100,200,300,400,500,[1,2,3,4,5,[10,20,30,40,50],6,7,8,9],600,700,800] \n",
        "# Access list [1, 2, 3, 4] Access list [600, 700] Access list [100, 300, 500, 600, 800] \n",
        "# Access list [[800, 700, 600, [1, 2, 3, 4, 5, [10, 20, 30, 40, 50], 6, 7, 8, 9], 500, 400, 300, 200, 100]] \n",
        "# Access list [10] Access list [ ]\n",
        "t_wa03_list = [100,200,300,400,500,[1,2,3,4,5,[10,20,30,40,50],6,7,8,9],600,700,800]\n",
        "print (t_wa03_list[5][:4])\n",
        "print (t_wa03_list[6:8])\n",
        "print (t_wa03_list[::2])\n",
        "print (t_wa03_list[::-1])\n",
        "print (t_wa03_list[5][5][0])\n",
        "print (t_wa03_list)"
      ],
      "execution_count": null,
      "outputs": [
        {
          "output_type": "stream",
          "text": [
            "[1, 2, 3, 4]\n",
            "[600, 700]\n",
            "[100, 300, 500, 600, 800]\n",
            "[800, 700, 600, [1, 2, 3, 4, 5, [10, 20, 30, 40, 50], 6, 7, 8, 9], 500, 400, 300, 200, 100]\n",
            "10\n",
            "[100, 200, 300, 400, 500, [1, 2, 3, 4, 5, [10, 20, 30, 40, 50], 6, 7, 8, 9], 600, 700, 800]\n"
          ],
          "name": "stdout"
        }
      ]
    },
    {
      "cell_type": "code",
      "metadata": {
        "id": "80-Q6NECHKSo",
        "colab_type": "code",
        "colab": {
          "base_uri": "https://localhost:8080/",
          "height": 83
        },
        "outputId": "24eb7da8-8315-4cd1-d1cc-ee6c0ec2c7c5"
      },
      "source": [
        "# 4.Create a list of thousand numbers using range and xrange and see the difference between each other.\n",
        "t_wa04_msg = ''' python 3 Range is same as xrange in python 2.7 and below\n",
        "'''\n",
        "print (t_wa04_msg)\n",
        "t_wa04_listRang = [*range(1,1001)]\n",
        "print (len(t_wa04_listRang), \"\\nDont want to use 1000 numbers so using len function\") "
      ],
      "execution_count": null,
      "outputs": [
        {
          "output_type": "stream",
          "text": [
            " python 3 Range is same as xrange in python 2.7 and below\n",
            "\n",
            "1000 \n",
            "Dont want to use 1000 numbers so using len function\n"
          ],
          "name": "stdout"
        }
      ]
    },
    {
      "cell_type": "code",
      "metadata": {
        "id": "ZgG_DUUQHKPW",
        "colab_type": "code",
        "colab": {
          "base_uri": "https://localhost:8080/",
          "height": 33
        },
        "outputId": "ece76d43-51e7-4dc1-bab9-bd137e8f6e4a"
      },
      "source": [
        "# 5. How Tuple is beneficial as compared to the list?\n",
        "t_wa05_msg = ''' Since tuples are immutable Its faster to performe and lists are mutable '''\n",
        "print (t_wa05_msg)"
      ],
      "execution_count": null,
      "outputs": [
        {
          "output_type": "stream",
          "text": [
            " Since tuples are immutable Its faster to performe and lists are mutable \n"
          ],
          "name": "stdout"
        }
      ]
    },
    {
      "cell_type": "code",
      "metadata": {
        "id": "SRkc7T4hHKL8",
        "colab_type": "code",
        "colab": {}
      },
      "source": [
        "# 6. Write a program in Python to iterate through the list of numbers in the \n",
        "# range of 1,100 and print the number which is divisible by 3 and a multiple of 2.\n",
        "t_wa06_list = [*range(1,101)]\n",
        "# for i in range(t_wa06_list):\n",
        "#   if t_wa06_list[i] % 3==0:\n",
        "#     print (t_wa06_list[i], \" is divisible by 3\")\n",
        "\n",
        "for i in range(1,101):\n",
        "  if i % 3==0:\n",
        "    print (i, \" is divisible by 3\")\n",
        "  elif i % 2==0:\n",
        "    print (i, \" is multiple of 2\") "
      ],
      "execution_count": null,
      "outputs": []
    },
    {
      "cell_type": "code",
      "metadata": {
        "id": "6CvKy_yAHKH5",
        "colab_type": "code",
        "colab": {
          "base_uri": "https://localhost:8080/",
          "height": 51
        },
        "outputId": "fb777533-fa28-499b-f1f7-a04fb71122a1"
      },
      "source": [
        "# 7. Write a program in Python to reverse a string and print only the vowel \n",
        "# alphabet if it exists in the string with their index.\n",
        "t_wa07_inputString = input(\"Enter a String :\")\n",
        "t_wa07_inputString [::-1]\n",
        "t_wa07_vowal = ['aeiouAEIOU']\n",
        "for i in t_wa07_inputString:\n",
        "  print (t_wa07_vowal,end=\" \")"
      ],
      "execution_count": null,
      "outputs": [
        {
          "output_type": "stream",
          "text": [
            "Enter a String :This is a StRRING\n",
            "T h i s   i s   a   S t R R I N G "
          ],
          "name": "stdout"
        }
      ]
    },
    {
      "cell_type": "code",
      "metadata": {
        "id": "q_p0gXbwHKD9",
        "colab_type": "code",
        "colab": {}
      },
      "source": [
        "# 8. Write a program in Python to iterate through the \n",
        "# string “hello my name is Abcde” and print the string which has even length of the word."
      ],
      "execution_count": null,
      "outputs": []
    },
    {
      "cell_type": "code",
      "metadata": {
        "id": "43wAGvzCHJ0z",
        "colab_type": "code",
        "colab": {}
      },
      "source": [
        "# 9. Write a program in python to print the pair of numbers whose sum is equal \n",
        "# to result number that is let's say 8. x=[1,2,3,4,5,6,7,8,9,-1]"
      ],
      "execution_count": null,
      "outputs": []
    },
    {
      "cell_type": "code",
      "metadata": {
        "id": "P-GwLSlBH6gM",
        "colab_type": "code",
        "colab": {}
      },
      "source": [
        "'''\n",
        "10. Write a program in Python to complete the following task: Create two different \n",
        "lists as in even_list and odd_list Ask the user to enter the number in the \n",
        "range of 1,50 and make sure if the entered number is even appended it to the \n",
        "even_list and if the entered number is odd append it to the odd list. Keep that \n",
        "in mind you can only add 5 items in each list Make sure once you entered the total \n",
        "5 elements calculate the sum of the list and return the maximum out of the list.\n",
        "'''"
      ],
      "execution_count": null,
      "outputs": []
    },
    {
      "cell_type": "code",
      "metadata": {
        "id": "LwduJI4OH6Tg",
        "colab_type": "code",
        "colab": {}
      },
      "source": [
        "'''\n",
        "11. Write a program to find out the occurrence of a specific word from an \n",
        "alphanumeric statement. Example: 12abcbacbaba344ab\n",
        "\n",
        "          Output: a=5 b=5 c=2 make sure you should avoid the numbers in you logic\n",
        "'''"
      ],
      "execution_count": null,
      "outputs": []
    },
    {
      "cell_type": "code",
      "metadata": {
        "id": "cVoKGTK9IV7k",
        "colab_type": "code",
        "colab": {}
      },
      "source": [
        "# 12. Generate and print another tuple whose values are even numbers in the given tuple (1,2,3,4,5,6,7,8,9,10)."
      ],
      "execution_count": null,
      "outputs": []
    },
    {
      "cell_type": "markdown",
      "metadata": {
        "id": "wSwtfgUN_KKv",
        "colab_type": "text"
      },
      "source": [
        ""
      ]
    }
  ]
}